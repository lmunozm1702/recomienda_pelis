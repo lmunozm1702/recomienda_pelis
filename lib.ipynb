{
 "cells": [
  {
   "cell_type": "code",
   "execution_count": null,
   "metadata": {},
   "outputs": [],
   "source": [
    "# Importar librerias\n",
    "import numpy as np\n",
    "import pandas as pd\n",
    "import pyarrow as pa\n",
    "import pyarrow.parquet as pq\n",
    "import ast\n",
    "import textwrap\n",
    "from sklearn.feature_extraction.text import TfidfVectorizer"
   ]
  },
  {
   "cell_type": "markdown",
   "metadata": {},
   "source": [
    "## Función para escribir archivo parquet"
   ]
  },
  {
   "cell_type": "code",
   "execution_count": 10,
   "metadata": {},
   "outputs": [],
   "source": [
    "def write_parquet(df, path):\n",
    "  table = pa.Table.from_pandas(df)\n",
    "  pq.write_table(table, path)"
   ]
  },
  {
   "cell_type": "markdown",
   "metadata": {},
   "source": [
    "## Función para extraer directores"
   ]
  },
  {
   "cell_type": "code",
   "execution_count": 11,
   "metadata": {},
   "outputs": [],
   "source": [
    "def extrae_directores(data):\n",
    "  lista_directores=[]\n",
    "\n",
    "  for row in data.itertuples(index=False):\n",
    "    for d in ast.literal_eval(row.crew):\n",
    "      if d['job'] == 'Director':\n",
    "        lista_directores.append({'id': row.id, 'name': d['name']})\n",
    "\n",
    "  df_directores = pd.DataFrame.from_records(lista_directores)\n",
    "  return df_directores"
   ]
  },
  {
   "cell_type": "markdown",
   "metadata": {},
   "source": [
    "## Función para extraer actores"
   ]
  },
  {
   "cell_type": "code",
   "execution_count": 12,
   "metadata": {},
   "outputs": [],
   "source": [
    "def extrae_actores(x):\n",
    "  lista_actores=[]\n",
    "\n",
    "  for row in x.itertuples(index=False):\n",
    "    for d in ast.literal_eval(row.cast):\n",
    "      lista_actores.append({'id': row.id, 'name': d['name']})\n",
    "  \n",
    "  df_actores = pd.DataFrame.from_records(lista_actores)\n",
    "  return df_actores\n",
    "  "
   ]
  },
  {
   "cell_type": "code",
   "execution_count": null,
   "metadata": {},
   "outputs": [],
   "source": [
    "def columnas_de_nulos(df):\n",
    "  columas_de_nulos = df.columns[df.isnull().any()].to_list()\n",
    "  return df[columas_de_nulos].isnull().sum()"
   ]
  }
 ],
 "metadata": {
  "kernelspec": {
   "display_name": "m7-p1",
   "language": "python",
   "name": "python3"
  },
  "language_info": {
   "codemirror_mode": {
    "name": "ipython",
    "version": 3
   },
   "file_extension": ".py",
   "mimetype": "text/x-python",
   "name": "python",
   "nbconvert_exporter": "python",
   "pygments_lexer": "ipython3",
   "version": "3.11.9"
  }
 },
 "nbformat": 4,
 "nbformat_minor": 2
}
