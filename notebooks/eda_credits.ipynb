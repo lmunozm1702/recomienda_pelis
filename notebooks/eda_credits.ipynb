{
 "cells": [
  {
   "cell_type": "markdown",
   "metadata": {},
   "source": [
    "# Informe EDA - Dataset CREDITS"
   ]
  },
  {
   "cell_type": "code",
   "execution_count": 18,
   "metadata": {},
   "outputs": [
    {
     "name": "stdout",
     "output_type": "stream",
     "text": [
      "<class 'pandas.core.frame.DataFrame'>\n",
      "RangeIndex: 45476 entries, 0 to 45475\n",
      "Data columns (total 3 columns):\n",
      " #   Column  Non-Null Count  Dtype \n",
      "---  ------  --------------  ----- \n",
      " 0   cast    45476 non-null  object\n",
      " 1   crew    45476 non-null  object\n",
      " 2   id      45476 non-null  int64 \n",
      "dtypes: int64(1), object(2)\n",
      "memory usage: 1.0+ MB\n"
     ]
    },
    {
     "data": {
      "text/html": [
       "<div>\n",
       "<style scoped>\n",
       "    .dataframe tbody tr th:only-of-type {\n",
       "        vertical-align: middle;\n",
       "    }\n",
       "\n",
       "    .dataframe tbody tr th {\n",
       "        vertical-align: top;\n",
       "    }\n",
       "\n",
       "    .dataframe thead th {\n",
       "        text-align: right;\n",
       "    }\n",
       "</style>\n",
       "<table border=\"1\" class=\"dataframe\">\n",
       "  <thead>\n",
       "    <tr style=\"text-align: right;\">\n",
       "      <th></th>\n",
       "      <th>cast</th>\n",
       "      <th>crew</th>\n",
       "      <th>id</th>\n",
       "    </tr>\n",
       "  </thead>\n",
       "  <tbody>\n",
       "    <tr>\n",
       "      <th>0</th>\n",
       "      <td>[{'cast_id': 14, 'character': 'Woody (voice)',...</td>\n",
       "      <td>[{'credit_id': '52fe4284c3a36847f8024f49', 'de...</td>\n",
       "      <td>862</td>\n",
       "    </tr>\n",
       "    <tr>\n",
       "      <th>1</th>\n",
       "      <td>[{'cast_id': 1, 'character': 'Alan Parrish', '...</td>\n",
       "      <td>[{'credit_id': '52fe44bfc3a36847f80a7cd1', 'de...</td>\n",
       "      <td>8844</td>\n",
       "    </tr>\n",
       "    <tr>\n",
       "      <th>2</th>\n",
       "      <td>[{'cast_id': 2, 'character': 'Max Goldman', 'c...</td>\n",
       "      <td>[{'credit_id': '52fe466a9251416c75077a89', 'de...</td>\n",
       "      <td>15602</td>\n",
       "    </tr>\n",
       "    <tr>\n",
       "      <th>3</th>\n",
       "      <td>[{'cast_id': 1, 'character': \"Savannah 'Vannah...</td>\n",
       "      <td>[{'credit_id': '52fe44779251416c91011acb', 'de...</td>\n",
       "      <td>31357</td>\n",
       "    </tr>\n",
       "    <tr>\n",
       "      <th>4</th>\n",
       "      <td>[{'cast_id': 1, 'character': 'George Banks', '...</td>\n",
       "      <td>[{'credit_id': '52fe44959251416c75039ed7', 'de...</td>\n",
       "      <td>11862</td>\n",
       "    </tr>\n",
       "  </tbody>\n",
       "</table>\n",
       "</div>"
      ],
      "text/plain": [
       "                                                cast  \\\n",
       "0  [{'cast_id': 14, 'character': 'Woody (voice)',...   \n",
       "1  [{'cast_id': 1, 'character': 'Alan Parrish', '...   \n",
       "2  [{'cast_id': 2, 'character': 'Max Goldman', 'c...   \n",
       "3  [{'cast_id': 1, 'character': \"Savannah 'Vannah...   \n",
       "4  [{'cast_id': 1, 'character': 'George Banks', '...   \n",
       "\n",
       "                                                crew     id  \n",
       "0  [{'credit_id': '52fe4284c3a36847f8024f49', 'de...    862  \n",
       "1  [{'credit_id': '52fe44bfc3a36847f80a7cd1', 'de...   8844  \n",
       "2  [{'credit_id': '52fe466a9251416c75077a89', 'de...  15602  \n",
       "3  [{'credit_id': '52fe44779251416c91011acb', 'de...  31357  \n",
       "4  [{'credit_id': '52fe44959251416c75039ed7', 'de...  11862  "
      ]
     },
     "execution_count": 18,
     "metadata": {},
     "output_type": "execute_result"
    }
   ],
   "source": [
    "%run lib.ipynb\n",
    "\n",
    "# Lectura del dataset de películas generado al finalizar el ETL de movies\n",
    "df_credits = pd.read_csv(\"../datasets/credits_clean.csv\")\n",
    "df_credits.info()\n",
    "df_credits.head()"
   ]
  },
  {
   "cell_type": "markdown",
   "metadata": {},
   "source": [
    "## Chequeo de nulos"
   ]
  },
  {
   "cell_type": "code",
   "execution_count": 19,
   "metadata": {},
   "outputs": [
    {
     "name": "stdout",
     "output_type": "stream",
     "text": [
      "Series([], dtype: float64)\n"
     ]
    }
   ],
   "source": [
    "#suma de valores nulos por columna\n",
    "print(columnas_de_nulos(df_credits))\n"
   ]
  },
  {
   "cell_type": "markdown",
   "metadata": {},
   "source": [
    "### No se encuentran valores nulos en el dataset"
   ]
  },
  {
   "cell_type": "markdown",
   "metadata": {},
   "source": [
    "## Valores duplicados"
   ]
  },
  {
   "cell_type": "markdown",
   "metadata": {},
   "source": [
    "### Buscaremos valores duplicados para filas completas"
   ]
  },
  {
   "cell_type": "code",
   "execution_count": 20,
   "metadata": {},
   "outputs": [
    {
     "data": {
      "text/html": [
       "<div>\n",
       "<style scoped>\n",
       "    .dataframe tbody tr th:only-of-type {\n",
       "        vertical-align: middle;\n",
       "    }\n",
       "\n",
       "    .dataframe tbody tr th {\n",
       "        vertical-align: top;\n",
       "    }\n",
       "\n",
       "    .dataframe thead th {\n",
       "        text-align: right;\n",
       "    }\n",
       "</style>\n",
       "<table border=\"1\" class=\"dataframe\">\n",
       "  <thead>\n",
       "    <tr style=\"text-align: right;\">\n",
       "      <th></th>\n",
       "      <th>cast</th>\n",
       "      <th>crew</th>\n",
       "      <th>id</th>\n",
       "    </tr>\n",
       "  </thead>\n",
       "  <tbody>\n",
       "    <tr>\n",
       "      <th>676</th>\n",
       "      <td>[{'cast_id': 5, 'character': 'Sophie II', 'cre...</td>\n",
       "      <td>[{'credit_id': '52fe4a44c3a36847f81c463f', 'de...</td>\n",
       "      <td>105045</td>\n",
       "    </tr>\n",
       "    <tr>\n",
       "      <th>949</th>\n",
       "      <td>[{'cast_id': 1, 'character': 'Catherine Barkle...</td>\n",
       "      <td>[{'credit_id': '56d73d3e9251414291002436', 'de...</td>\n",
       "      <td>22649</td>\n",
       "    </tr>\n",
       "    <tr>\n",
       "      <th>1465</th>\n",
       "      <td>[{'cast_id': 5, 'character': 'Sophie II', 'cre...</td>\n",
       "      <td>[{'credit_id': '52fe4a44c3a36847f81c463f', 'de...</td>\n",
       "      <td>105045</td>\n",
       "    </tr>\n",
       "    <tr>\n",
       "      <th>2564</th>\n",
       "      <td>[{'cast_id': 3, 'character': 'Himself', 'credi...</td>\n",
       "      <td>[{'credit_id': '52fe48e09251416c9109b347', 'de...</td>\n",
       "      <td>84198</td>\n",
       "    </tr>\n",
       "    <tr>\n",
       "      <th>4114</th>\n",
       "      <td>[{'cast_id': 1, 'character': 'Ash Ketchum', 'c...</td>\n",
       "      <td>[{'credit_id': '52fe43de9251416c750213ff', 'de...</td>\n",
       "      <td>10991</td>\n",
       "    </tr>\n",
       "    <tr>\n",
       "      <th>...</th>\n",
       "      <td>...</td>\n",
       "      <td>...</td>\n",
       "      <td>...</td>\n",
       "    </tr>\n",
       "    <tr>\n",
       "      <th>33755</th>\n",
       "      <td>[{'cast_id': 4, 'character': 'Zak Gibbs', 'cre...</td>\n",
       "      <td>[{'credit_id': '54afed0cc3a3683fba00443d', 'de...</td>\n",
       "      <td>15028</td>\n",
       "    </tr>\n",
       "    <tr>\n",
       "      <th>40287</th>\n",
       "      <td>[{'cast_id': 1001, 'character': 'Max.', 'credi...</td>\n",
       "      <td>[{'credit_id': '55140dfa92514103e9002d99', 'de...</td>\n",
       "      <td>97995</td>\n",
       "    </tr>\n",
       "    <tr>\n",
       "      <th>44831</th>\n",
       "      <td>[{'cast_id': 1, 'character': 'Ash Ketchum', 'c...</td>\n",
       "      <td>[{'credit_id': '52fe43de9251416c750213ff', 'de...</td>\n",
       "      <td>10991</td>\n",
       "    </tr>\n",
       "    <tr>\n",
       "      <th>44836</th>\n",
       "      <td>[{'cast_id': 1, 'character': 'Ash Ketchum (voi...</td>\n",
       "      <td>[{'credit_id': '52fe45049251416c75048e35', 'de...</td>\n",
       "      <td>12600</td>\n",
       "    </tr>\n",
       "    <tr>\n",
       "      <th>45275</th>\n",
       "      <td>[{'cast_id': 2, 'character': 'Ebba', 'credit_i...</td>\n",
       "      <td>[{'credit_id': '534fd1a80e0a267eb6000e32', 'de...</td>\n",
       "      <td>265189</td>\n",
       "    </tr>\n",
       "  </tbody>\n",
       "</table>\n",
       "<p>73 rows × 3 columns</p>\n",
       "</div>"
      ],
      "text/plain": [
       "                                                    cast  \\\n",
       "676    [{'cast_id': 5, 'character': 'Sophie II', 'cre...   \n",
       "949    [{'cast_id': 1, 'character': 'Catherine Barkle...   \n",
       "1465   [{'cast_id': 5, 'character': 'Sophie II', 'cre...   \n",
       "2564   [{'cast_id': 3, 'character': 'Himself', 'credi...   \n",
       "4114   [{'cast_id': 1, 'character': 'Ash Ketchum', 'c...   \n",
       "...                                                  ...   \n",
       "33755  [{'cast_id': 4, 'character': 'Zak Gibbs', 'cre...   \n",
       "40287  [{'cast_id': 1001, 'character': 'Max.', 'credi...   \n",
       "44831  [{'cast_id': 1, 'character': 'Ash Ketchum', 'c...   \n",
       "44836  [{'cast_id': 1, 'character': 'Ash Ketchum (voi...   \n",
       "45275  [{'cast_id': 2, 'character': 'Ebba', 'credit_i...   \n",
       "\n",
       "                                                    crew      id  \n",
       "676    [{'credit_id': '52fe4a44c3a36847f81c463f', 'de...  105045  \n",
       "949    [{'credit_id': '56d73d3e9251414291002436', 'de...   22649  \n",
       "1465   [{'credit_id': '52fe4a44c3a36847f81c463f', 'de...  105045  \n",
       "2564   [{'credit_id': '52fe48e09251416c9109b347', 'de...   84198  \n",
       "4114   [{'credit_id': '52fe43de9251416c750213ff', 'de...   10991  \n",
       "...                                                  ...     ...  \n",
       "33755  [{'credit_id': '54afed0cc3a3683fba00443d', 'de...   15028  \n",
       "40287  [{'credit_id': '55140dfa92514103e9002d99', 'de...   97995  \n",
       "44831  [{'credit_id': '52fe43de9251416c750213ff', 'de...   10991  \n",
       "44836  [{'credit_id': '52fe45049251416c75048e35', 'de...   12600  \n",
       "45275  [{'credit_id': '534fd1a80e0a267eb6000e32', 'de...  265189  \n",
       "\n",
       "[73 rows x 3 columns]"
      ]
     },
     "execution_count": 20,
     "metadata": {},
     "output_type": "execute_result"
    }
   ],
   "source": [
    "df_credits[df_credits.duplicated(keep=False)]"
   ]
  },
  {
   "cell_type": "markdown",
   "metadata": {},
   "source": [
    "### Eliminaremos las duplicadas quedándonos con la primera ocurrencia"
   ]
  },
  {
   "cell_type": "code",
   "execution_count": 21,
   "metadata": {},
   "outputs": [
    {
     "data": {
      "text/html": [
       "<div>\n",
       "<style scoped>\n",
       "    .dataframe tbody tr th:only-of-type {\n",
       "        vertical-align: middle;\n",
       "    }\n",
       "\n",
       "    .dataframe tbody tr th {\n",
       "        vertical-align: top;\n",
       "    }\n",
       "\n",
       "    .dataframe thead th {\n",
       "        text-align: right;\n",
       "    }\n",
       "</style>\n",
       "<table border=\"1\" class=\"dataframe\">\n",
       "  <thead>\n",
       "    <tr style=\"text-align: right;\">\n",
       "      <th></th>\n",
       "      <th>cast</th>\n",
       "      <th>crew</th>\n",
       "      <th>id</th>\n",
       "    </tr>\n",
       "  </thead>\n",
       "  <tbody>\n",
       "  </tbody>\n",
       "</table>\n",
       "</div>"
      ],
      "text/plain": [
       "Empty DataFrame\n",
       "Columns: [cast, crew, id]\n",
       "Index: []"
      ]
     },
     "execution_count": 21,
     "metadata": {},
     "output_type": "execute_result"
    }
   ],
   "source": [
    "df_credits = df_credits.drop_duplicates(keep='first')\n",
    "df_credits[df_credits.duplicated(keep=False)]\n",
    "\n"
   ]
  },
  {
   "cell_type": "markdown",
   "metadata": {},
   "source": [
    "### Buscaremos valores duplicados sólo para la columna id"
   ]
  },
  {
   "cell_type": "code",
   "execution_count": 22,
   "metadata": {},
   "outputs": [
    {
     "data": {
      "text/html": [
       "<div>\n",
       "<style scoped>\n",
       "    .dataframe tbody tr th:only-of-type {\n",
       "        vertical-align: middle;\n",
       "    }\n",
       "\n",
       "    .dataframe tbody tr th {\n",
       "        vertical-align: top;\n",
       "    }\n",
       "\n",
       "    .dataframe thead th {\n",
       "        text-align: right;\n",
       "    }\n",
       "</style>\n",
       "<table border=\"1\" class=\"dataframe\">\n",
       "  <thead>\n",
       "    <tr style=\"text-align: right;\">\n",
       "      <th></th>\n",
       "      <th>cast</th>\n",
       "      <th>crew</th>\n",
       "      <th>id</th>\n",
       "    </tr>\n",
       "  </thead>\n",
       "  <tbody>\n",
       "    <tr>\n",
       "      <th>5865</th>\n",
       "      <td>[{'cast_id': 15, 'character': 'Chuck Barris', ...</td>\n",
       "      <td>[{'credit_id': '52fe43e2c3a36847f80760b5', 'de...</td>\n",
       "      <td>4912</td>\n",
       "    </tr>\n",
       "    <tr>\n",
       "      <th>33838</th>\n",
       "      <td>[{'cast_id': 15, 'character': 'Chuck Barris', ...</td>\n",
       "      <td>[{'credit_id': '52fe43e2c3a36847f80760a9', 'de...</td>\n",
       "      <td>4912</td>\n",
       "    </tr>\n",
       "    <tr>\n",
       "      <th>9576</th>\n",
       "      <td>[{'cast_id': 1, 'character': 'Gerard Carriere'...</td>\n",
       "      <td>[{'credit_id': '5468acec22136e68c9000d53', 'de...</td>\n",
       "      <td>69234</td>\n",
       "    </tr>\n",
       "    <tr>\n",
       "      <th>26638</th>\n",
       "      <td>[{'cast_id': 1, 'character': 'Gerard Carriere'...</td>\n",
       "      <td>[{'credit_id': '52fe47bfc3a368484e0d77bf', 'de...</td>\n",
       "      <td>69234</td>\n",
       "    </tr>\n",
       "    <tr>\n",
       "      <th>16167</th>\n",
       "      <td>[{'cast_id': 1004, 'character': 'Luke Oarum', ...</td>\n",
       "      <td>[{'credit_id': '52fe4a269251416c750df623', 'de...</td>\n",
       "      <td>99080</td>\n",
       "    </tr>\n",
       "    <tr>\n",
       "      <th>38882</th>\n",
       "      <td>[{'cast_id': 1004, 'character': 'Luke Oarum', ...</td>\n",
       "      <td>[{'credit_id': '52fe4a269251416c750df61d', 'de...</td>\n",
       "      <td>99080</td>\n",
       "    </tr>\n",
       "    <tr>\n",
       "      <th>4356</th>\n",
       "      <td>[{'cast_id': 3, 'character': 'Camille Claudel'...</td>\n",
       "      <td>[{'credit_id': '52fe4ad6c3a36847f81e461b', 'de...</td>\n",
       "      <td>110428</td>\n",
       "    </tr>\n",
       "    <tr>\n",
       "      <th>23533</th>\n",
       "      <td>[{'cast_id': 3, 'character': 'Camille Claudel'...</td>\n",
       "      <td>[{'credit_id': '577ed5389251416976004432', 'de...</td>\n",
       "      <td>110428</td>\n",
       "    </tr>\n",
       "    <tr>\n",
       "      <th>838</th>\n",
       "      <td>[{'cast_id': 4, 'character': 'Mihoko Nakagawa'...</td>\n",
       "      <td>[{'credit_id': '52fe4b9ac3a368484e190d25', 'de...</td>\n",
       "      <td>132641</td>\n",
       "    </tr>\n",
       "    <tr>\n",
       "      <th>30013</th>\n",
       "      <td>[{'cast_id': 4, 'character': 'Mihoko Nakagawa'...</td>\n",
       "      <td>[{'credit_id': '56365ed9925141285701b06e', 'de...</td>\n",
       "      <td>132641</td>\n",
       "    </tr>\n",
       "    <tr>\n",
       "      <th>13220</th>\n",
       "      <td>[{'cast_id': 12, 'character': 'Narrator', 'cre...</td>\n",
       "      <td>[{'credit_id': '52fe4c229251416c910f10d5', 'de...</td>\n",
       "      <td>159849</td>\n",
       "    </tr>\n",
       "    <tr>\n",
       "      <th>35809</th>\n",
       "      <td>[{'cast_id': 12, 'character': 'Narrator', 'cre...</td>\n",
       "      <td>[{'credit_id': '52fe4c229251416c910f10d5', 'de...</td>\n",
       "      <td>159849</td>\n",
       "    </tr>\n",
       "    <tr>\n",
       "      <th>33196</th>\n",
       "      <td>[{'cast_id': 1, 'character': 'Jenjira', 'credi...</td>\n",
       "      <td>[{'credit_id': '5448c8efc3a3680fb4001582', 'de...</td>\n",
       "      <td>298721</td>\n",
       "    </tr>\n",
       "    <tr>\n",
       "      <th>40051</th>\n",
       "      <td>[{'cast_id': 1, 'character': 'Jenjira', 'credi...</td>\n",
       "      <td>[{'credit_id': '5739ceeac3a3683c9d000c12', 'de...</td>\n",
       "      <td>298721</td>\n",
       "    </tr>\n",
       "  </tbody>\n",
       "</table>\n",
       "</div>"
      ],
      "text/plain": [
       "                                                    cast  \\\n",
       "5865   [{'cast_id': 15, 'character': 'Chuck Barris', ...   \n",
       "33838  [{'cast_id': 15, 'character': 'Chuck Barris', ...   \n",
       "9576   [{'cast_id': 1, 'character': 'Gerard Carriere'...   \n",
       "26638  [{'cast_id': 1, 'character': 'Gerard Carriere'...   \n",
       "16167  [{'cast_id': 1004, 'character': 'Luke Oarum', ...   \n",
       "38882  [{'cast_id': 1004, 'character': 'Luke Oarum', ...   \n",
       "4356   [{'cast_id': 3, 'character': 'Camille Claudel'...   \n",
       "23533  [{'cast_id': 3, 'character': 'Camille Claudel'...   \n",
       "838    [{'cast_id': 4, 'character': 'Mihoko Nakagawa'...   \n",
       "30013  [{'cast_id': 4, 'character': 'Mihoko Nakagawa'...   \n",
       "13220  [{'cast_id': 12, 'character': 'Narrator', 'cre...   \n",
       "35809  [{'cast_id': 12, 'character': 'Narrator', 'cre...   \n",
       "33196  [{'cast_id': 1, 'character': 'Jenjira', 'credi...   \n",
       "40051  [{'cast_id': 1, 'character': 'Jenjira', 'credi...   \n",
       "\n",
       "                                                    crew      id  \n",
       "5865   [{'credit_id': '52fe43e2c3a36847f80760b5', 'de...    4912  \n",
       "33838  [{'credit_id': '52fe43e2c3a36847f80760a9', 'de...    4912  \n",
       "9576   [{'credit_id': '5468acec22136e68c9000d53', 'de...   69234  \n",
       "26638  [{'credit_id': '52fe47bfc3a368484e0d77bf', 'de...   69234  \n",
       "16167  [{'credit_id': '52fe4a269251416c750df623', 'de...   99080  \n",
       "38882  [{'credit_id': '52fe4a269251416c750df61d', 'de...   99080  \n",
       "4356   [{'credit_id': '52fe4ad6c3a36847f81e461b', 'de...  110428  \n",
       "23533  [{'credit_id': '577ed5389251416976004432', 'de...  110428  \n",
       "838    [{'credit_id': '52fe4b9ac3a368484e190d25', 'de...  132641  \n",
       "30013  [{'credit_id': '56365ed9925141285701b06e', 'de...  132641  \n",
       "13220  [{'credit_id': '52fe4c229251416c910f10d5', 'de...  159849  \n",
       "35809  [{'credit_id': '52fe4c229251416c910f10d5', 'de...  159849  \n",
       "33196  [{'credit_id': '5448c8efc3a3680fb4001582', 'de...  298721  \n",
       "40051  [{'credit_id': '5739ceeac3a3683c9d000c12', 'de...  298721  "
      ]
     },
     "execution_count": 22,
     "metadata": {},
     "output_type": "execute_result"
    }
   ],
   "source": [
    "df_credits[df_credits.duplicated(keep=False, subset=['id'])].sort_values(by=['id'])"
   ]
  },
  {
   "cell_type": "markdown",
   "metadata": {},
   "source": [
    "### Existen valores duplicados en la columna \"id\", los eliminaremos"
   ]
  },
  {
   "cell_type": "code",
   "execution_count": 23,
   "metadata": {},
   "outputs": [
    {
     "name": "stdout",
     "output_type": "stream",
     "text": [
      "<class 'pandas.core.frame.DataFrame'>\n",
      "Index: 45432 entries, 0 to 45475\n",
      "Data columns (total 3 columns):\n",
      " #   Column  Non-Null Count  Dtype \n",
      "---  ------  --------------  ----- \n",
      " 0   cast    45432 non-null  object\n",
      " 1   crew    45432 non-null  object\n",
      " 2   id      45432 non-null  int64 \n",
      "dtypes: int64(1), object(2)\n",
      "memory usage: 1.4+ MB\n"
     ]
    }
   ],
   "source": [
    "df_credits = df_credits.drop_duplicates('id', keep='last')\n",
    "df_credits.info()"
   ]
  },
  {
   "cell_type": "markdown",
   "metadata": {},
   "source": [
    "## Valores faltantes"
   ]
  },
  {
   "cell_type": "markdown",
   "metadata": {},
   "source": [
    "### Realizaremos búsqueda de valores faltantes"
   ]
  },
  {
   "cell_type": "code",
   "execution_count": 24,
   "metadata": {},
   "outputs": [
    {
     "data": {
      "text/plain": [
       "cast    0\n",
       "crew    0\n",
       "id      0\n",
       "dtype: int64"
      ]
     },
     "execution_count": 24,
     "metadata": {},
     "output_type": "execute_result"
    }
   ],
   "source": [
    "df_credits.isna().sum()\n"
   ]
  },
  {
   "cell_type": "markdown",
   "metadata": {},
   "source": [
    "### No se detectan valores faltantes."
   ]
  },
  {
   "cell_type": "markdown",
   "metadata": {},
   "source": [
    "## Tipos de datos"
   ]
  },
  {
   "cell_type": "markdown",
   "metadata": {},
   "source": [
    "### se analizarán los tipos de datos para las columnas relevantes."
   ]
  },
  {
   "cell_type": "code",
   "execution_count": 25,
   "metadata": {},
   "outputs": [
    {
     "name": "stdout",
     "output_type": "stream",
     "text": [
      "<class 'pandas.core.frame.DataFrame'>\n",
      "Index: 45432 entries, 0 to 45475\n",
      "Data columns (total 3 columns):\n",
      " #   Column  Non-Null Count  Dtype \n",
      "---  ------  --------------  ----- \n",
      " 0   cast    45432 non-null  object\n",
      " 1   crew    45432 non-null  object\n",
      " 2   id      45432 non-null  int64 \n",
      "dtypes: int64(1), object(2)\n",
      "memory usage: 1.4+ MB\n"
     ]
    }
   ],
   "source": [
    "df_credits.info()"
   ]
  },
  {
   "cell_type": "markdown",
   "metadata": {},
   "source": [
    "### Cambiamos las columnas cast y crew a string"
   ]
  },
  {
   "cell_type": "code",
   "execution_count": 26,
   "metadata": {},
   "outputs": [
    {
     "name": "stdout",
     "output_type": "stream",
     "text": [
      "<class 'pandas.core.frame.DataFrame'>\n",
      "Index: 45432 entries, 0 to 45475\n",
      "Data columns (total 3 columns):\n",
      " #   Column  Non-Null Count  Dtype \n",
      "---  ------  --------------  ----- \n",
      " 0   cast    45432 non-null  string\n",
      " 1   crew    45432 non-null  string\n",
      " 2   id      45432 non-null  int64 \n",
      "dtypes: int64(1), string(2)\n",
      "memory usage: 1.4 MB\n"
     ]
    }
   ],
   "source": [
    "df_credits['cast'] = df_credits['cast'].astype('string')\n",
    "df_credits['crew'] = df_credits['crew'].astype('string')\n",
    "df_credits.info()"
   ]
  },
  {
   "cell_type": "markdown",
   "metadata": {},
   "source": [
    "### Resetearemos el índice del dataframe"
   ]
  },
  {
   "cell_type": "code",
   "execution_count": 27,
   "metadata": {},
   "outputs": [],
   "source": [
    "df_credits.reset_index(drop=True, inplace=True)"
   ]
  },
  {
   "cell_type": "markdown",
   "metadata": {},
   "source": [
    "## Análisis estadístico"
   ]
  },
  {
   "cell_type": "markdown",
   "metadata": {},
   "source": [
    "### No se puede hacer este tipo de análisis a las columnas de este dataframe, esto por que no hay variables cuantitativas ni cualitativas, sólo información complementaria al dataframe de movies."
   ]
  },
  {
   "cell_type": "markdown",
   "metadata": {},
   "source": [
    "## Análisis de correlaciones"
   ]
  },
  {
   "cell_type": "markdown",
   "metadata": {},
   "source": [
    "### No se puede hacer este tipo de3 análisis a las columnas de este dataframe, esto por que no hay variables cuantitativas ni cualitativas, sólo información complementaria al dataframe de movies."
   ]
  },
  {
   "cell_type": "markdown",
   "metadata": {},
   "source": [
    "## Re-generar archivos que serán utrilizados por el API"
   ]
  },
  {
   "cell_type": "code",
   "execution_count": 30,
   "metadata": {},
   "outputs": [
    {
     "name": "stdout",
     "output_type": "stream",
     "text": [
      "<class 'pandas.core.frame.DataFrame'>\n",
      "RangeIndex: 48999 entries, 0 to 48998\n",
      "Data columns (total 2 columns):\n",
      " #   Column  Non-Null Count  Dtype \n",
      "---  ------  --------------  ----- \n",
      " 0   id      48999 non-null  int64 \n",
      " 1   name    48999 non-null  string\n",
      "dtypes: int64(1), string(1)\n",
      "memory usage: 765.7 KB\n",
      "<class 'pandas.core.frame.DataFrame'>\n",
      "RangeIndex: 562044 entries, 0 to 562043\n",
      "Data columns (total 2 columns):\n",
      " #   Column  Non-Null Count   Dtype \n",
      "---  ------  --------------   ----- \n",
      " 0   id      562044 non-null  int64 \n",
      " 1   name    562044 non-null  string\n",
      "dtypes: int64(1), string(1)\n",
      "memory usage: 8.6 MB\n"
     ]
    }
   ],
   "source": [
    "data_directores = extrae_directores(df_credits)\n",
    "data_directores['name'] = data_directores['name'].astype('string')\n",
    "data_directores.info()\n",
    "\n",
    "data_actores = extrae_actores(df_credits)\n",
    "data_actores['name'] = data_actores['name'].astype('string')\n",
    "data_actores.info()\n",
    "\n",
    "write_parquet(data_directores, '../datasets/directores_dataset.parquet')\n",
    "write_parquet(data_actores, '../datasets/actores_dataset.parquet')"
   ]
  }
 ],
 "metadata": {
  "kernelspec": {
   "display_name": "m7-p1",
   "language": "python",
   "name": "python3"
  },
  "language_info": {
   "codemirror_mode": {
    "name": "ipython",
    "version": 3
   },
   "file_extension": ".py",
   "mimetype": "text/x-python",
   "name": "python",
   "nbconvert_exporter": "python",
   "pygments_lexer": "ipython3",
   "version": "3.11.9"
  }
 },
 "nbformat": 4,
 "nbformat_minor": 2
}
