{
 "cells": [
  {
   "cell_type": "markdown",
   "metadata": {},
   "source": [
    "# Informe EDA"
   ]
  },
  {
   "cell_type": "code",
   "execution_count": 69,
   "metadata": {},
   "outputs": [
    {
     "name": "stdout",
     "output_type": "stream",
     "text": [
      "<class 'pandas.core.frame.DataFrame'>\n",
      "RangeIndex: 45376 entries, 0 to 45375\n",
      "Data columns (total 21 columns):\n",
      " #   Column                 Non-Null Count  Dtype  \n",
      "---  ------                 --------------  -----  \n",
      " 0   belongs_to_collection  4488 non-null   object \n",
      " 1   budget                 45376 non-null  object \n",
      " 2   genres                 45376 non-null  object \n",
      " 3   id                     45376 non-null  object \n",
      " 4   original_language      45365 non-null  object \n",
      " 5   overview               44435 non-null  object \n",
      " 6   popularity             45376 non-null  float64\n",
      " 7   production_companies   45376 non-null  object \n",
      " 8   production_countries   45376 non-null  object \n",
      " 9   release_date           45376 non-null  object \n",
      " 10  revenue                45376 non-null  float64\n",
      " 11  runtime                45130 non-null  float64\n",
      " 12  spoken_languages       45376 non-null  object \n",
      " 13  status                 45296 non-null  object \n",
      " 14  tagline                20398 non-null  object \n",
      " 15  title                  45376 non-null  object \n",
      " 16  vote_average           45376 non-null  float64\n",
      " 17  vote_count             45376 non-null  float64\n",
      " 18  release_year           45376 non-null  int64  \n",
      " 19  return                 45376 non-null  float64\n",
      " 20  populartiy             45376 non-null  float64\n",
      "dtypes: float64(7), int64(1), object(13)\n",
      "memory usage: 7.3+ MB\n"
     ]
    },
    {
     "data": {
      "text/html": [
       "<div>\n",
       "<style scoped>\n",
       "    .dataframe tbody tr th:only-of-type {\n",
       "        vertical-align: middle;\n",
       "    }\n",
       "\n",
       "    .dataframe tbody tr th {\n",
       "        vertical-align: top;\n",
       "    }\n",
       "\n",
       "    .dataframe thead th {\n",
       "        text-align: right;\n",
       "    }\n",
       "</style>\n",
       "<table border=\"1\" class=\"dataframe\">\n",
       "  <thead>\n",
       "    <tr style=\"text-align: right;\">\n",
       "      <th></th>\n",
       "      <th>belongs_to_collection</th>\n",
       "      <th>budget</th>\n",
       "      <th>genres</th>\n",
       "      <th>id</th>\n",
       "      <th>original_language</th>\n",
       "      <th>overview</th>\n",
       "      <th>popularity</th>\n",
       "      <th>production_companies</th>\n",
       "      <th>production_countries</th>\n",
       "      <th>release_date</th>\n",
       "      <th>...</th>\n",
       "      <th>runtime</th>\n",
       "      <th>spoken_languages</th>\n",
       "      <th>status</th>\n",
       "      <th>tagline</th>\n",
       "      <th>title</th>\n",
       "      <th>vote_average</th>\n",
       "      <th>vote_count</th>\n",
       "      <th>release_year</th>\n",
       "      <th>return</th>\n",
       "      <th>populartiy</th>\n",
       "    </tr>\n",
       "  </thead>\n",
       "  <tbody>\n",
       "    <tr>\n",
       "      <th>0</th>\n",
       "      <td>{'id': 10194, 'name': 'Toy Story Collection', ...</td>\n",
       "      <td>30000000</td>\n",
       "      <td>[{'id': 16, 'name': 'Animation'}, {'id': 35, '...</td>\n",
       "      <td>862</td>\n",
       "      <td>en</td>\n",
       "      <td>Led by Woody, Andy's toys live happily in his ...</td>\n",
       "      <td>21.946943</td>\n",
       "      <td>[{'name': 'Pixar Animation Studios', 'id': 3}]</td>\n",
       "      <td>[{'iso_3166_1': 'US', 'name': 'United States o...</td>\n",
       "      <td>1995-10-30</td>\n",
       "      <td>...</td>\n",
       "      <td>81.0</td>\n",
       "      <td>[{'iso_639_1': 'en', 'name': 'English'}]</td>\n",
       "      <td>Released</td>\n",
       "      <td>None</td>\n",
       "      <td>Toy Story</td>\n",
       "      <td>7.7</td>\n",
       "      <td>5415.0</td>\n",
       "      <td>1995</td>\n",
       "      <td>12.451801</td>\n",
       "      <td>21.946943</td>\n",
       "    </tr>\n",
       "    <tr>\n",
       "      <th>1</th>\n",
       "      <td>None</td>\n",
       "      <td>65000000</td>\n",
       "      <td>[{'id': 12, 'name': 'Adventure'}, {'id': 14, '...</td>\n",
       "      <td>8844</td>\n",
       "      <td>en</td>\n",
       "      <td>When siblings Judy and Peter discover an encha...</td>\n",
       "      <td>17.015539</td>\n",
       "      <td>[{'name': 'TriStar Pictures', 'id': 559}, {'na...</td>\n",
       "      <td>[{'iso_3166_1': 'US', 'name': 'United States o...</td>\n",
       "      <td>1995-12-15</td>\n",
       "      <td>...</td>\n",
       "      <td>104.0</td>\n",
       "      <td>[{'iso_639_1': 'en', 'name': 'English'}, {'iso...</td>\n",
       "      <td>Released</td>\n",
       "      <td>Roll the dice and unleash the excitement!</td>\n",
       "      <td>Jumanji</td>\n",
       "      <td>6.9</td>\n",
       "      <td>2413.0</td>\n",
       "      <td>1995</td>\n",
       "      <td>4.043035</td>\n",
       "      <td>17.015539</td>\n",
       "    </tr>\n",
       "    <tr>\n",
       "      <th>2</th>\n",
       "      <td>{'id': 119050, 'name': 'Grumpy Old Men Collect...</td>\n",
       "      <td>0</td>\n",
       "      <td>[{'id': 10749, 'name': 'Romance'}, {'id': 35, ...</td>\n",
       "      <td>15602</td>\n",
       "      <td>en</td>\n",
       "      <td>A family wedding reignites the ancient feud be...</td>\n",
       "      <td>11.712900</td>\n",
       "      <td>[{'name': 'Warner Bros.', 'id': 6194}, {'name'...</td>\n",
       "      <td>[{'iso_3166_1': 'US', 'name': 'United States o...</td>\n",
       "      <td>1995-12-22</td>\n",
       "      <td>...</td>\n",
       "      <td>101.0</td>\n",
       "      <td>[{'iso_639_1': 'en', 'name': 'English'}]</td>\n",
       "      <td>Released</td>\n",
       "      <td>Still Yelling. Still Fighting. Still Ready for...</td>\n",
       "      <td>Grumpier Old Men</td>\n",
       "      <td>6.5</td>\n",
       "      <td>92.0</td>\n",
       "      <td>1995</td>\n",
       "      <td>0.000000</td>\n",
       "      <td>11.712900</td>\n",
       "    </tr>\n",
       "    <tr>\n",
       "      <th>3</th>\n",
       "      <td>None</td>\n",
       "      <td>16000000</td>\n",
       "      <td>[{'id': 35, 'name': 'Comedy'}, {'id': 18, 'nam...</td>\n",
       "      <td>31357</td>\n",
       "      <td>en</td>\n",
       "      <td>Cheated on, mistreated and stepped on, the wom...</td>\n",
       "      <td>3.859495</td>\n",
       "      <td>[{'name': 'Twentieth Century Fox Film Corporat...</td>\n",
       "      <td>[{'iso_3166_1': 'US', 'name': 'United States o...</td>\n",
       "      <td>1995-12-22</td>\n",
       "      <td>...</td>\n",
       "      <td>127.0</td>\n",
       "      <td>[{'iso_639_1': 'en', 'name': 'English'}]</td>\n",
       "      <td>Released</td>\n",
       "      <td>Friends are the people who let you be yourself...</td>\n",
       "      <td>Waiting to Exhale</td>\n",
       "      <td>6.1</td>\n",
       "      <td>34.0</td>\n",
       "      <td>1995</td>\n",
       "      <td>5.090760</td>\n",
       "      <td>3.859495</td>\n",
       "    </tr>\n",
       "    <tr>\n",
       "      <th>4</th>\n",
       "      <td>{'id': 96871, 'name': 'Father of the Bride Col...</td>\n",
       "      <td>0</td>\n",
       "      <td>[{'id': 35, 'name': 'Comedy'}]</td>\n",
       "      <td>11862</td>\n",
       "      <td>en</td>\n",
       "      <td>Just when George Banks has recovered from his ...</td>\n",
       "      <td>8.387519</td>\n",
       "      <td>[{'name': 'Sandollar Productions', 'id': 5842}...</td>\n",
       "      <td>[{'iso_3166_1': 'US', 'name': 'United States o...</td>\n",
       "      <td>1995-02-10</td>\n",
       "      <td>...</td>\n",
       "      <td>106.0</td>\n",
       "      <td>[{'iso_639_1': 'en', 'name': 'English'}]</td>\n",
       "      <td>Released</td>\n",
       "      <td>Just When His World Is Back To Normal... He's ...</td>\n",
       "      <td>Father of the Bride Part II</td>\n",
       "      <td>5.7</td>\n",
       "      <td>173.0</td>\n",
       "      <td>1995</td>\n",
       "      <td>0.000000</td>\n",
       "      <td>8.387519</td>\n",
       "    </tr>\n",
       "  </tbody>\n",
       "</table>\n",
       "<p>5 rows × 21 columns</p>\n",
       "</div>"
      ],
      "text/plain": [
       "                               belongs_to_collection    budget  \\\n",
       "0  {'id': 10194, 'name': 'Toy Story Collection', ...  30000000   \n",
       "1                                               None  65000000   \n",
       "2  {'id': 119050, 'name': 'Grumpy Old Men Collect...         0   \n",
       "3                                               None  16000000   \n",
       "4  {'id': 96871, 'name': 'Father of the Bride Col...         0   \n",
       "\n",
       "                                              genres     id original_language  \\\n",
       "0  [{'id': 16, 'name': 'Animation'}, {'id': 35, '...    862                en   \n",
       "1  [{'id': 12, 'name': 'Adventure'}, {'id': 14, '...   8844                en   \n",
       "2  [{'id': 10749, 'name': 'Romance'}, {'id': 35, ...  15602                en   \n",
       "3  [{'id': 35, 'name': 'Comedy'}, {'id': 18, 'nam...  31357                en   \n",
       "4                     [{'id': 35, 'name': 'Comedy'}]  11862                en   \n",
       "\n",
       "                                            overview  popularity  \\\n",
       "0  Led by Woody, Andy's toys live happily in his ...   21.946943   \n",
       "1  When siblings Judy and Peter discover an encha...   17.015539   \n",
       "2  A family wedding reignites the ancient feud be...   11.712900   \n",
       "3  Cheated on, mistreated and stepped on, the wom...    3.859495   \n",
       "4  Just when George Banks has recovered from his ...    8.387519   \n",
       "\n",
       "                                production_companies  \\\n",
       "0     [{'name': 'Pixar Animation Studios', 'id': 3}]   \n",
       "1  [{'name': 'TriStar Pictures', 'id': 559}, {'na...   \n",
       "2  [{'name': 'Warner Bros.', 'id': 6194}, {'name'...   \n",
       "3  [{'name': 'Twentieth Century Fox Film Corporat...   \n",
       "4  [{'name': 'Sandollar Productions', 'id': 5842}...   \n",
       "\n",
       "                                production_countries release_date  ...  \\\n",
       "0  [{'iso_3166_1': 'US', 'name': 'United States o...   1995-10-30  ...   \n",
       "1  [{'iso_3166_1': 'US', 'name': 'United States o...   1995-12-15  ...   \n",
       "2  [{'iso_3166_1': 'US', 'name': 'United States o...   1995-12-22  ...   \n",
       "3  [{'iso_3166_1': 'US', 'name': 'United States o...   1995-12-22  ...   \n",
       "4  [{'iso_3166_1': 'US', 'name': 'United States o...   1995-02-10  ...   \n",
       "\n",
       "   runtime                                   spoken_languages    status  \\\n",
       "0     81.0           [{'iso_639_1': 'en', 'name': 'English'}]  Released   \n",
       "1    104.0  [{'iso_639_1': 'en', 'name': 'English'}, {'iso...  Released   \n",
       "2    101.0           [{'iso_639_1': 'en', 'name': 'English'}]  Released   \n",
       "3    127.0           [{'iso_639_1': 'en', 'name': 'English'}]  Released   \n",
       "4    106.0           [{'iso_639_1': 'en', 'name': 'English'}]  Released   \n",
       "\n",
       "                                             tagline  \\\n",
       "0                                               None   \n",
       "1          Roll the dice and unleash the excitement!   \n",
       "2  Still Yelling. Still Fighting. Still Ready for...   \n",
       "3  Friends are the people who let you be yourself...   \n",
       "4  Just When His World Is Back To Normal... He's ...   \n",
       "\n",
       "                         title vote_average  vote_count  release_year  \\\n",
       "0                    Toy Story          7.7      5415.0          1995   \n",
       "1                      Jumanji          6.9      2413.0          1995   \n",
       "2             Grumpier Old Men          6.5        92.0          1995   \n",
       "3            Waiting to Exhale          6.1        34.0          1995   \n",
       "4  Father of the Bride Part II          5.7       173.0          1995   \n",
       "\n",
       "      return  populartiy  \n",
       "0  12.451801   21.946943  \n",
       "1   4.043035   17.015539  \n",
       "2   0.000000   11.712900  \n",
       "3   5.090760    3.859495  \n",
       "4   0.000000    8.387519  \n",
       "\n",
       "[5 rows x 21 columns]"
      ]
     },
     "execution_count": 69,
     "metadata": {},
     "output_type": "execute_result"
    }
   ],
   "source": [
    "%run lib.ipynb\n",
    "\n",
    "# Lectura del dataset de películas\n",
    "df_movies = pd.read_parquet(\"datasets/movies_dataset.parquet\")\n",
    "df_movies.info()\n",
    "df_movies.head()"
   ]
  },
  {
   "cell_type": "markdown",
   "metadata": {},
   "source": [
    "## Chequeo de nulos"
   ]
  },
  {
   "cell_type": "code",
   "execution_count": 70,
   "metadata": {},
   "outputs": [
    {
     "name": "stdout",
     "output_type": "stream",
     "text": [
      "belongs_to_collection    40888\n",
      "original_language           11\n",
      "overview                   941\n",
      "runtime                    246\n",
      "status                      80\n",
      "tagline                  24978\n",
      "dtype: int64\n"
     ]
    }
   ],
   "source": [
    "#suma de valores nulos por columna\n",
    "print(columnas_de_nulos(df_movies))\n"
   ]
  },
  {
   "cell_type": "markdown",
   "metadata": {},
   "source": [
    "### De un total de 45376, la columna \"belongs_to_collection\" tiene un 90.1% de valores nulos, como además la columna no será utilizada en el API (ni en el recomendador), será eliminada"
   ]
  },
  {
   "cell_type": "code",
   "execution_count": 71,
   "metadata": {},
   "outputs": [
    {
     "name": "stdout",
     "output_type": "stream",
     "text": [
      "original_language       11\n",
      "overview               941\n",
      "runtime                246\n",
      "status                  80\n",
      "tagline              24978\n",
      "dtype: int64\n"
     ]
    }
   ],
   "source": [
    "df_movies = df_movies.drop(['belongs_to_collection'], axis=1)\n",
    "print(columnas_de_nulos(df_movies))"
   ]
  },
  {
   "cell_type": "markdown",
   "metadata": {},
   "source": [
    "### Para la columna \"original_language\", tenemos 11 filas con valor nulo. 8 de ellos tienen sólo un valor en la columna \"spoken_languages\" así que lo imputaremos en \"original_languaje\", para las 4 restantes imputaremos el primer valor que se encuentre en #spoken_languajes\". Esta columna es de interes ya que posteriormente la utilizaré para reducir el dataset y poder factibilizar la ejecución del algoritmo de recomendación, ya que con todo el dataset genera problemas de memoria."
   ]
  },
  {
   "cell_type": "code",
   "execution_count": 72,
   "metadata": {},
   "outputs": [
    {
     "name": "stdout",
     "output_type": "stream",
     "text": [
      "overview      941\n",
      "runtime       246\n",
      "status         80\n",
      "tagline     24978\n",
      "dtype: int64\n"
     ]
    }
   ],
   "source": [
    "df_movies.loc[[21579, 22805, 32103], ['original_language']] = 'en'\n",
    "df_movies.loc[[19559, 44494], ['original_language']] = ''\n",
    "df_movies.loc[[37354], ['original_language']] = 'cs'\n",
    "df_movies.loc[[40982], ['original_language']] = 'ur'\n",
    "df_movies.loc[[41802, 44573], ['original_language']] = 'xx'\n",
    "df_movies.loc[[43978], ['original_language']] = 'fr'\n",
    "df_movies.loc[[44328], ['original_language']] = 'sv'\n",
    "\n",
    "print(columnas_de_nulos(df_movies))"
   ]
  },
  {
   "cell_type": "markdown",
   "metadata": {},
   "source": [
    "### Utilizaré la columna \"overview\" como la base del algoritmo de recomendación, por lo que necesito que este poblada para todas las películas. Utilizaré en primera instancia la columna \"tagline\" y posteriormente la columna \"title\"."
   ]
  },
  {
   "cell_type": "code",
   "execution_count": 73,
   "metadata": {},
   "outputs": [
    {
     "name": "stdout",
     "output_type": "stream",
     "text": [
      "runtime      246\n",
      "status        80\n",
      "tagline    24978\n",
      "dtype: int64\n"
     ]
    }
   ],
   "source": [
    "\n",
    "#Reemplazo los valores nulos de la columna overview por su correspondiente en tagline\n",
    "df_movies[\"overview\"] = df_movies[\"overview\"].fillna(df_movies[\"tagline\"])\n",
    "\n",
    "#Reemplazo los valores nulos de la columna overview por su correspondiente en title\n",
    "df_movies[\"overview\"] = df_movies[\"overview\"].fillna(df_movies[\"title\"])\n",
    "\n",
    "print(columnas_de_nulos(df_movies))"
   ]
  },
  {
   "cell_type": "markdown",
   "metadata": {},
   "source": [
    "## Valores duplicados"
   ]
  },
  {
   "cell_type": "markdown",
   "metadata": {},
   "source": [
    "## Valores faltantes"
   ]
  },
  {
   "cell_type": "markdown",
   "metadata": {},
   "source": [
    "## Tipos de datos"
   ]
  },
  {
   "cell_type": "markdown",
   "metadata": {},
   "source": [
    "## Análisis estadístico"
   ]
  },
  {
   "cell_type": "markdown",
   "metadata": {},
   "source": [
    "## Análisis de correlaciones"
   ]
  }
 ],
 "metadata": {
  "kernelspec": {
   "display_name": "m7-p1",
   "language": "python",
   "name": "python3"
  },
  "language_info": {
   "codemirror_mode": {
    "name": "ipython",
    "version": 3
   },
   "file_extension": ".py",
   "mimetype": "text/x-python",
   "name": "python",
   "nbconvert_exporter": "python",
   "pygments_lexer": "ipython3",
   "version": "3.11.9"
  }
 },
 "nbformat": 4,
 "nbformat_minor": 2
}
